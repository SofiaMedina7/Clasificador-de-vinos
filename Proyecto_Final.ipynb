{
  "nbformat": 4,
  "nbformat_minor": 0,
  "metadata": {
    "colab": {
      "provenance": [],
      "authorship_tag": "ABX9TyOwEX2rbXUlObGKLXC/P6Wp",
      "include_colab_link": true
    },
    "kernelspec": {
      "name": "python3",
      "display_name": "Python 3"
    },
    "language_info": {
      "name": "python"
    }
  },
  "cells": [
    {
      "cell_type": "markdown",
      "metadata": {
        "id": "view-in-github",
        "colab_type": "text"
      },
      "source": [
        "<a href=\"https://colab.research.google.com/github/SofiaMedina7/Clasificador-de-vinos/blob/main/Proyecto_Final.ipynb\" target=\"_parent\"><img src=\"https://colab.research.google.com/assets/colab-badge.svg\" alt=\"Open In Colab\"/></a>"
      ]
    },
    {
      "cell_type": "code",
      "execution_count": 72,
      "metadata": {
        "id": "RQBMajJNG6oa"
      },
      "outputs": [],
      "source": [
        "import pandas as pd\n",
        "import numpy as np\n",
        "import math\n",
        "import matplotlib.pyplot as plt\n",
        "\n",
        "from os import X_OK\n",
        "from sklearn import preprocessing\n",
        "from sklearn.preprocessing import StandardScaler\n",
        "from sklearn.model_selection import train_test_split\n",
        "\n",
        "from sklearn import decomposition\n",
        "from sklearn.decomposition import PCA, KernelPCA\n",
        "\n",
        "from sklearn.metrics import classification_report\n",
        "from sklearn.metrics import confusion_matrix\n",
        "from sklearn.preprocessing import PolynomialFeatures\n",
        "\n",
        "from sklearn import svm\n",
        "from sklearn.neural_network import MLPClassifier\n",
        "from sklearn.naive_bayes import GaussianNB\n",
        "from sklearn.neighbors import KNeighborsClassifier\n",
        "\n",
        "from sklearn.metrics import matthews_corrcoef\n",
        "from sklearn.metrics import accuracy_score\n",
        "from sklearn.metrics import f1_score\n"
      ]
    },
    {
      "cell_type": "code",
      "source": [
        "df=pd.read_csv(\"redwinequality.csv\", sep=',',header=0)\n",
        "arr=df.values\n",
        "Xo=arr[:,1:12]\n",
        "Y=arr[:,13]\n",
        "y=np.transpose(Y)\n",
        "\n",
        "scaler = StandardScaler()\n",
        "scaler.fit(Xo)\n",
        "X = scaler.transform(Xo)\n",
        "\n",
        "print(y)\n"
      ],
      "metadata": {
        "colab": {
          "base_uri": "https://localhost:8080/"
        },
        "id": "g1HmIZHZNAYm",
        "outputId": "6869a92d-16fe-41f0-875d-7cb661cbc30b"
      },
      "execution_count": null,
      "outputs": [
        {
          "output_type": "stream",
          "name": "stdout",
          "text": [
            "['cinco' 'cinco' 'cinco' ... 'seis' 'cinco' 'seis']\n"
          ]
        }
      ]
    },
    {
      "cell_type": "markdown",
      "source": [
        "## PCA"
      ],
      "metadata": {
        "id": "GIHhwILNMidH"
      }
    },
    {
      "cell_type": "code",
      "source": [
        "n=9\n",
        "pca = decomposition.PCA(n_components=n,whiten=True)\n",
        "\n",
        "pca.fit(X)\n",
        "X_pca = pca.transform(X)\n",
        "\n",
        "print(\"Pesos de PCA:\",pca.explained_variance_ratio_)\n",
        "\n",
        "X_train, X_test, y_train, y_test = train_test_split(X_pca, y,test_size=0.25, random_state=0)\n",
        "\n",
        "scaler = StandardScaler()\n",
        "scaler.fit(X_train)\n",
        "X_train = scaler.transform(X_train)\n",
        "X_test = scaler.transform(X_test)\n",
        "\n",
        "print(y_train.shape)"
      ],
      "metadata": {
        "colab": {
          "base_uri": "https://localhost:8080/"
        },
        "id": "-1y7mh16Mh_m",
        "outputId": "bb01ca7b-f63d-48dd-8c27-24953d4e3a31"
      },
      "execution_count": null,
      "outputs": [
        {
          "output_type": "stream",
          "name": "stdout",
          "text": [
            "Pesos de PCA: [0.28168526 0.17507198 0.14105725 0.1102609  0.08714744 0.0599412\n",
            " 0.05308397 0.03852238 0.03124977]\n",
            "(1199,)\n"
          ]
        }
      ]
    },
    {
      "cell_type": "markdown",
      "source": [
        "# Support vector machine"
      ],
      "metadata": {
        "id": "kqAPwkTwsh7w"
      }
    },
    {
      "cell_type": "code",
      "source": [
        "kernels=['linear', 'poly', 'poly', 'rbf', 'sigmoid']\n",
        "\n",
        "a_svm = []\n",
        "f1_svm = []\n",
        "mcc_svm = []\n",
        "\n",
        "\n",
        "for s in range(0,4):\n",
        "  if s == 0: #lineal\n",
        "    g = 0.01\n",
        "    d = 3\n",
        "    c = 0\n",
        "  if s == 1: #cubica\n",
        "    g = 'scale'\n",
        "    d = 3\n",
        "    c = 0\n",
        "  if s == 2: #cuadratica\n",
        "    g = 'scale'\n",
        "    d = 4\n",
        "    c = 1\n",
        "  if s == 3: #cuadratica\n",
        "    g = (1/2)*15\n",
        "    d = 3\n",
        "    c = 0\n",
        "  if s == 3: #sigmoid\n",
        "    g = 'auto'\n",
        "    d = 3\n",
        "    c = 0\n",
        "\n",
        "  Kernel=s\n",
        "  msv = svm.SVC(kernel=kernels[Kernel],gamma=g,degree=d,coef0=c)\n",
        "  msv.fit(X_train, y_train)\n",
        "    \n",
        "  y_test_predicted_svm = msv.predict(X_test)\n",
        "\n",
        "  acc = accuracy_score(y_test, y_test_predicted_svm)\n",
        "  a_svm.append(acc)\n",
        "  f1 = f1_score(y_test, y_test_predicted_svm,average='micro')\n",
        "  f1_svm.append(f1)\n",
        "  mcc = matthews_corrcoef(y_test, y_test_predicted_svm)\n",
        "  mcc_svm.append(mcc)\n",
        "\n",
        "  print(classification_report(y_test, y_test_predicted_svm))\n",
        "\n",
        "\n",
        "print(a_svm)\n",
        "print(f1_svm)\n",
        "print(mcc_svm)"
      ],
      "metadata": {
        "id": "iMA5gXnzsp0L",
        "colab": {
          "base_uri": "https://localhost:8080/"
        },
        "outputId": "3f9883c7-a423-4470-d353-e6cfd9ebf927"
      },
      "execution_count": 70,
      "outputs": [
        {
          "output_type": "stream",
          "name": "stderr",
          "text": [
            "/usr/local/lib/python3.7/dist-packages/sklearn/metrics/_classification.py:1318: UndefinedMetricWarning: Precision and F-score are ill-defined and being set to 0.0 in labels with no predicted samples. Use `zero_division` parameter to control this behavior.\n",
            "  _warn_prf(average, modifier, msg_start, len(result))\n",
            "/usr/local/lib/python3.7/dist-packages/sklearn/metrics/_classification.py:1318: UndefinedMetricWarning: Precision and F-score are ill-defined and being set to 0.0 in labels with no predicted samples. Use `zero_division` parameter to control this behavior.\n",
            "  _warn_prf(average, modifier, msg_start, len(result))\n",
            "/usr/local/lib/python3.7/dist-packages/sklearn/metrics/_classification.py:1318: UndefinedMetricWarning: Precision and F-score are ill-defined and being set to 0.0 in labels with no predicted samples. Use `zero_division` parameter to control this behavior.\n",
            "  _warn_prf(average, modifier, msg_start, len(result))\n",
            "/usr/local/lib/python3.7/dist-packages/sklearn/metrics/_classification.py:1318: UndefinedMetricWarning: Precision and F-score are ill-defined and being set to 0.0 in labels with no predicted samples. Use `zero_division` parameter to control this behavior.\n",
            "  _warn_prf(average, modifier, msg_start, len(result))\n",
            "/usr/local/lib/python3.7/dist-packages/sklearn/metrics/_classification.py:1318: UndefinedMetricWarning: Precision and F-score are ill-defined and being set to 0.0 in labels with no predicted samples. Use `zero_division` parameter to control this behavior.\n",
            "  _warn_prf(average, modifier, msg_start, len(result))\n",
            "/usr/local/lib/python3.7/dist-packages/sklearn/metrics/_classification.py:1318: UndefinedMetricWarning: Precision and F-score are ill-defined and being set to 0.0 in labels with no predicted samples. Use `zero_division` parameter to control this behavior.\n",
            "  _warn_prf(average, modifier, msg_start, len(result))\n",
            "/usr/local/lib/python3.7/dist-packages/sklearn/metrics/_classification.py:1318: UndefinedMetricWarning: Precision and F-score are ill-defined and being set to 0.0 in labels with no predicted samples. Use `zero_division` parameter to control this behavior.\n",
            "  _warn_prf(average, modifier, msg_start, len(result))\n"
          ]
        },
        {
          "output_type": "stream",
          "name": "stdout",
          "text": [
            "              precision    recall  f1-score   support\n",
            "\n",
            "       cinco       0.66      0.79      0.72       169\n",
            "      cuatro       0.00      0.00      0.00        14\n",
            "        ocho       0.00      0.00      0.00         5\n",
            "        seis       0.57      0.66      0.62       170\n",
            "       siete       0.00      0.00      0.00        40\n",
            "        tres       0.00      0.00      0.00         2\n",
            "\n",
            "    accuracy                           0.61       400\n",
            "   macro avg       0.20      0.24      0.22       400\n",
            "weighted avg       0.52      0.61      0.56       400\n",
            "\n",
            "              precision    recall  f1-score   support\n",
            "\n",
            "       cinco       0.63      0.77      0.69       169\n",
            "      cuatro       0.00      0.00      0.00        14\n",
            "        ocho       0.00      0.00      0.00         5\n",
            "        seis       0.60      0.63      0.62       170\n",
            "       siete       0.40      0.15      0.22        40\n",
            "        tres       0.00      0.00      0.00         2\n",
            "\n",
            "    accuracy                           0.61       400\n",
            "   macro avg       0.27      0.26      0.25       400\n",
            "weighted avg       0.56      0.61      0.58       400\n",
            "\n",
            "              precision    recall  f1-score   support\n",
            "\n",
            "       cinco       0.66      0.70      0.68       169\n",
            "      cuatro       0.00      0.00      0.00        14\n",
            "        ocho       0.00      0.00      0.00         5\n",
            "        seis       0.64      0.62      0.63       170\n",
            "       siete       0.48      0.60      0.53        40\n",
            "        tres       0.00      0.00      0.00         2\n",
            "\n",
            "    accuracy                           0.62       400\n",
            "   macro avg       0.30      0.32      0.31       400\n",
            "weighted avg       0.60      0.62      0.61       400\n",
            "\n",
            "              precision    recall  f1-score   support\n",
            "\n",
            "       cinco       0.66      0.73      0.70       169\n",
            "      cuatro       0.00      0.00      0.00        14\n",
            "        ocho       0.00      0.00      0.00         5\n",
            "        seis       0.61      0.68      0.64       170\n",
            "       siete       0.61      0.35      0.44        40\n",
            "        tres       0.00      0.00      0.00         2\n",
            "\n",
            "    accuracy                           0.64       400\n",
            "   macro avg       0.31      0.29      0.30       400\n",
            "weighted avg       0.60      0.64      0.61       400\n",
            "\n",
            "[0.615, 0.6075, 0.6225, 0.635]\n",
            "[0.615, 0.6075, 0.6225, 0.635]\n",
            "[0.34097532338839537, 0.3403853233580038, 0.3933993648489817, 0.3897627510659096]\n"
          ]
        },
        {
          "output_type": "stream",
          "name": "stderr",
          "text": [
            "/usr/local/lib/python3.7/dist-packages/sklearn/metrics/_classification.py:1318: UndefinedMetricWarning: Precision and F-score are ill-defined and being set to 0.0 in labels with no predicted samples. Use `zero_division` parameter to control this behavior.\n",
            "  _warn_prf(average, modifier, msg_start, len(result))\n",
            "/usr/local/lib/python3.7/dist-packages/sklearn/metrics/_classification.py:1318: UndefinedMetricWarning: Precision and F-score are ill-defined and being set to 0.0 in labels with no predicted samples. Use `zero_division` parameter to control this behavior.\n",
            "  _warn_prf(average, modifier, msg_start, len(result))\n",
            "/usr/local/lib/python3.7/dist-packages/sklearn/metrics/_classification.py:1318: UndefinedMetricWarning: Precision and F-score are ill-defined and being set to 0.0 in labels with no predicted samples. Use `zero_division` parameter to control this behavior.\n",
            "  _warn_prf(average, modifier, msg_start, len(result))\n",
            "/usr/local/lib/python3.7/dist-packages/sklearn/metrics/_classification.py:1318: UndefinedMetricWarning: Precision and F-score are ill-defined and being set to 0.0 in labels with no predicted samples. Use `zero_division` parameter to control this behavior.\n",
            "  _warn_prf(average, modifier, msg_start, len(result))\n",
            "/usr/local/lib/python3.7/dist-packages/sklearn/metrics/_classification.py:1318: UndefinedMetricWarning: Precision and F-score are ill-defined and being set to 0.0 in labels with no predicted samples. Use `zero_division` parameter to control this behavior.\n",
            "  _warn_prf(average, modifier, msg_start, len(result))\n"
          ]
        }
      ]
    },
    {
      "cell_type": "markdown",
      "source": [
        "# Naive Bayes"
      ],
      "metadata": {
        "id": "WuyCsGti4nuP"
      }
    },
    {
      "cell_type": "code",
      "source": [
        "Gau = GaussianNB()\n",
        "Gau.fit(X_train, y_train)\n",
        "\n",
        "y_test_predicted_NB = Gau.predict(X_test)\n",
        "\n",
        "acc = accuracy_score(y_test, y_test_predicted_NB)\n",
        "f1 = f1_score(y_test, y_test_predicted_NB,average='micro')\n",
        "mcc = matthews_corrcoef(y_test, y_test_predicted_NB)\n",
        "\n",
        "print(acc)\n",
        "print(f1)\n",
        "print(mcc)\n",
        "print(classification_report(y_test, y_test_predicted_NB))\n"
      ],
      "metadata": {
        "colab": {
          "base_uri": "https://localhost:8080/"
        },
        "id": "GbuHvbBs4nWr",
        "outputId": "a63eba15-3d73-4e42-cd1d-f8ec504bd65a"
      },
      "execution_count": null,
      "outputs": [
        {
          "output_type": "stream",
          "name": "stdout",
          "text": [
            "0.5575\n",
            "0.5575\n",
            "0.28939124228150137\n",
            "              precision    recall  f1-score   support\n",
            "\n",
            "       cinco       0.68      0.53      0.60       169\n",
            "      cuatro       0.00      0.00      0.00        14\n",
            "        ocho       0.00      0.00      0.00         5\n",
            "        seis       0.54      0.70      0.61       170\n",
            "       siete       0.38      0.35      0.36        40\n",
            "        tres       0.00      0.00      0.00         2\n",
            "\n",
            "    accuracy                           0.56       400\n",
            "   macro avg       0.27      0.26      0.26       400\n",
            "weighted avg       0.56      0.56      0.55       400\n",
            "\n"
          ]
        },
        {
          "output_type": "stream",
          "name": "stderr",
          "text": [
            "/usr/local/lib/python3.7/dist-packages/sklearn/metrics/_classification.py:1318: UndefinedMetricWarning: Precision and F-score are ill-defined and being set to 0.0 in labels with no predicted samples. Use `zero_division` parameter to control this behavior.\n",
            "  _warn_prf(average, modifier, msg_start, len(result))\n",
            "/usr/local/lib/python3.7/dist-packages/sklearn/metrics/_classification.py:1318: UndefinedMetricWarning: Precision and F-score are ill-defined and being set to 0.0 in labels with no predicted samples. Use `zero_division` parameter to control this behavior.\n",
            "  _warn_prf(average, modifier, msg_start, len(result))\n",
            "/usr/local/lib/python3.7/dist-packages/sklearn/metrics/_classification.py:1318: UndefinedMetricWarning: Precision and F-score are ill-defined and being set to 0.0 in labels with no predicted samples. Use `zero_division` parameter to control this behavior.\n",
            "  _warn_prf(average, modifier, msg_start, len(result))\n"
          ]
        }
      ]
    },
    {
      "cell_type": "markdown",
      "source": [
        "# Redes neuronales"
      ],
      "metadata": {
        "id": "LSEQQgABVEd6"
      }
    },
    {
      "cell_type": "code",
      "source": [
        "activations = ['identity', 'logistic', 'tanh', 'relu']\n",
        "\n",
        "a_mlp = []\n",
        "f1_mlp = []\n",
        "mcc_mlp = []\n",
        "\n",
        "for p in [0,1,2,3]:\n",
        "  for j in range(10,60,10):\n",
        "      mlp = MLPClassifier(hidden_layer_sizes=(j*2,j,j*2),alpha=0.01,activation=activations[p],random_state=1,learning_rate='adaptive', max_iter=1000,solver=\"adam\",verbose=False)\n",
        "      mlp.fit(X_train, y_train)\n",
        "\n",
        "      y_test_predicted_mlp = mlp.predict(X_test)\n",
        "\n",
        "      acc = accuracy_score(y_test, y_test_predicted_mlp)\n",
        "      a_mlp.append(acc)\n",
        "      f1 = f1_score(y_test, y_test_predicted_mlp,average='micro')\n",
        "      f1_mlp.append(f1)\n",
        "      mcc = matthews_corrcoef(y_test, y_test_predicted_mlp)\n",
        "      mcc_mlp.append(mcc)\n",
        "\n",
        "      print('metodo de activacion:',activations[p])\n",
        "      print('Tamano de capas:',j)\n",
        "      print(classification_report(y_test, y_test_predicted_svm))\n",
        "  \n",
        "\n",
        "print(a_mlp)\n",
        "print(f1_mlp)\n",
        "print(mcc_mlp)\n",
        "\n"
      ],
      "metadata": {
        "colab": {
          "base_uri": "https://localhost:8080/"
        },
        "id": "n1taqLGxVD6p",
        "outputId": "63f8224c-0f01-43ab-bcb2-668a4aec3862"
      },
      "execution_count": 76,
      "outputs": [
        {
          "output_type": "stream",
          "name": "stdout",
          "text": [
            "metodo de activacion: identity\n",
            "Tamano de capas: 10\n",
            "              precision    recall  f1-score   support\n",
            "\n",
            "       cinco       0.66      0.73      0.70       169\n",
            "      cuatro       0.00      0.00      0.00        14\n",
            "        ocho       0.00      0.00      0.00         5\n",
            "        seis       0.61      0.68      0.64       170\n",
            "       siete       0.61      0.35      0.44        40\n",
            "        tres       0.00      0.00      0.00         2\n",
            "\n",
            "    accuracy                           0.64       400\n",
            "   macro avg       0.31      0.29      0.30       400\n",
            "weighted avg       0.60      0.64      0.61       400\n",
            "\n"
          ]
        },
        {
          "output_type": "stream",
          "name": "stderr",
          "text": [
            "/usr/local/lib/python3.7/dist-packages/sklearn/metrics/_classification.py:1318: UndefinedMetricWarning: Precision and F-score are ill-defined and being set to 0.0 in labels with no predicted samples. Use `zero_division` parameter to control this behavior.\n",
            "  _warn_prf(average, modifier, msg_start, len(result))\n",
            "/usr/local/lib/python3.7/dist-packages/sklearn/metrics/_classification.py:1318: UndefinedMetricWarning: Precision and F-score are ill-defined and being set to 0.0 in labels with no predicted samples. Use `zero_division` parameter to control this behavior.\n",
            "  _warn_prf(average, modifier, msg_start, len(result))\n",
            "/usr/local/lib/python3.7/dist-packages/sklearn/metrics/_classification.py:1318: UndefinedMetricWarning: Precision and F-score are ill-defined and being set to 0.0 in labels with no predicted samples. Use `zero_division` parameter to control this behavior.\n",
            "  _warn_prf(average, modifier, msg_start, len(result))\n"
          ]
        },
        {
          "output_type": "stream",
          "name": "stdout",
          "text": [
            "metodo de activacion: identity\n",
            "Tamano de capas: 20\n",
            "              precision    recall  f1-score   support\n",
            "\n",
            "       cinco       0.66      0.73      0.70       169\n",
            "      cuatro       0.00      0.00      0.00        14\n",
            "        ocho       0.00      0.00      0.00         5\n",
            "        seis       0.61      0.68      0.64       170\n",
            "       siete       0.61      0.35      0.44        40\n",
            "        tres       0.00      0.00      0.00         2\n",
            "\n",
            "    accuracy                           0.64       400\n",
            "   macro avg       0.31      0.29      0.30       400\n",
            "weighted avg       0.60      0.64      0.61       400\n",
            "\n"
          ]
        },
        {
          "output_type": "stream",
          "name": "stderr",
          "text": [
            "/usr/local/lib/python3.7/dist-packages/sklearn/metrics/_classification.py:1318: UndefinedMetricWarning: Precision and F-score are ill-defined and being set to 0.0 in labels with no predicted samples. Use `zero_division` parameter to control this behavior.\n",
            "  _warn_prf(average, modifier, msg_start, len(result))\n",
            "/usr/local/lib/python3.7/dist-packages/sklearn/metrics/_classification.py:1318: UndefinedMetricWarning: Precision and F-score are ill-defined and being set to 0.0 in labels with no predicted samples. Use `zero_division` parameter to control this behavior.\n",
            "  _warn_prf(average, modifier, msg_start, len(result))\n",
            "/usr/local/lib/python3.7/dist-packages/sklearn/metrics/_classification.py:1318: UndefinedMetricWarning: Precision and F-score are ill-defined and being set to 0.0 in labels with no predicted samples. Use `zero_division` parameter to control this behavior.\n",
            "  _warn_prf(average, modifier, msg_start, len(result))\n"
          ]
        },
        {
          "output_type": "stream",
          "name": "stdout",
          "text": [
            "metodo de activacion: identity\n",
            "Tamano de capas: 30\n",
            "              precision    recall  f1-score   support\n",
            "\n",
            "       cinco       0.66      0.73      0.70       169\n",
            "      cuatro       0.00      0.00      0.00        14\n",
            "        ocho       0.00      0.00      0.00         5\n",
            "        seis       0.61      0.68      0.64       170\n",
            "       siete       0.61      0.35      0.44        40\n",
            "        tres       0.00      0.00      0.00         2\n",
            "\n",
            "    accuracy                           0.64       400\n",
            "   macro avg       0.31      0.29      0.30       400\n",
            "weighted avg       0.60      0.64      0.61       400\n",
            "\n"
          ]
        },
        {
          "output_type": "stream",
          "name": "stderr",
          "text": [
            "/usr/local/lib/python3.7/dist-packages/sklearn/metrics/_classification.py:1318: UndefinedMetricWarning: Precision and F-score are ill-defined and being set to 0.0 in labels with no predicted samples. Use `zero_division` parameter to control this behavior.\n",
            "  _warn_prf(average, modifier, msg_start, len(result))\n",
            "/usr/local/lib/python3.7/dist-packages/sklearn/metrics/_classification.py:1318: UndefinedMetricWarning: Precision and F-score are ill-defined and being set to 0.0 in labels with no predicted samples. Use `zero_division` parameter to control this behavior.\n",
            "  _warn_prf(average, modifier, msg_start, len(result))\n",
            "/usr/local/lib/python3.7/dist-packages/sklearn/metrics/_classification.py:1318: UndefinedMetricWarning: Precision and F-score are ill-defined and being set to 0.0 in labels with no predicted samples. Use `zero_division` parameter to control this behavior.\n",
            "  _warn_prf(average, modifier, msg_start, len(result))\n"
          ]
        },
        {
          "output_type": "stream",
          "name": "stdout",
          "text": [
            "metodo de activacion: identity\n",
            "Tamano de capas: 40\n",
            "              precision    recall  f1-score   support\n",
            "\n",
            "       cinco       0.66      0.73      0.70       169\n",
            "      cuatro       0.00      0.00      0.00        14\n",
            "        ocho       0.00      0.00      0.00         5\n",
            "        seis       0.61      0.68      0.64       170\n",
            "       siete       0.61      0.35      0.44        40\n",
            "        tres       0.00      0.00      0.00         2\n",
            "\n",
            "    accuracy                           0.64       400\n",
            "   macro avg       0.31      0.29      0.30       400\n",
            "weighted avg       0.60      0.64      0.61       400\n",
            "\n"
          ]
        },
        {
          "output_type": "stream",
          "name": "stderr",
          "text": [
            "/usr/local/lib/python3.7/dist-packages/sklearn/metrics/_classification.py:1318: UndefinedMetricWarning: Precision and F-score are ill-defined and being set to 0.0 in labels with no predicted samples. Use `zero_division` parameter to control this behavior.\n",
            "  _warn_prf(average, modifier, msg_start, len(result))\n",
            "/usr/local/lib/python3.7/dist-packages/sklearn/metrics/_classification.py:1318: UndefinedMetricWarning: Precision and F-score are ill-defined and being set to 0.0 in labels with no predicted samples. Use `zero_division` parameter to control this behavior.\n",
            "  _warn_prf(average, modifier, msg_start, len(result))\n",
            "/usr/local/lib/python3.7/dist-packages/sklearn/metrics/_classification.py:1318: UndefinedMetricWarning: Precision and F-score are ill-defined and being set to 0.0 in labels with no predicted samples. Use `zero_division` parameter to control this behavior.\n",
            "  _warn_prf(average, modifier, msg_start, len(result))\n"
          ]
        },
        {
          "output_type": "stream",
          "name": "stdout",
          "text": [
            "metodo de activacion: identity\n",
            "Tamano de capas: 50\n",
            "              precision    recall  f1-score   support\n",
            "\n",
            "       cinco       0.66      0.73      0.70       169\n",
            "      cuatro       0.00      0.00      0.00        14\n",
            "        ocho       0.00      0.00      0.00         5\n",
            "        seis       0.61      0.68      0.64       170\n",
            "       siete       0.61      0.35      0.44        40\n",
            "        tres       0.00      0.00      0.00         2\n",
            "\n",
            "    accuracy                           0.64       400\n",
            "   macro avg       0.31      0.29      0.30       400\n",
            "weighted avg       0.60      0.64      0.61       400\n",
            "\n"
          ]
        },
        {
          "output_type": "stream",
          "name": "stderr",
          "text": [
            "/usr/local/lib/python3.7/dist-packages/sklearn/metrics/_classification.py:1318: UndefinedMetricWarning: Precision and F-score are ill-defined and being set to 0.0 in labels with no predicted samples. Use `zero_division` parameter to control this behavior.\n",
            "  _warn_prf(average, modifier, msg_start, len(result))\n",
            "/usr/local/lib/python3.7/dist-packages/sklearn/metrics/_classification.py:1318: UndefinedMetricWarning: Precision and F-score are ill-defined and being set to 0.0 in labels with no predicted samples. Use `zero_division` parameter to control this behavior.\n",
            "  _warn_prf(average, modifier, msg_start, len(result))\n",
            "/usr/local/lib/python3.7/dist-packages/sklearn/metrics/_classification.py:1318: UndefinedMetricWarning: Precision and F-score are ill-defined and being set to 0.0 in labels with no predicted samples. Use `zero_division` parameter to control this behavior.\n",
            "  _warn_prf(average, modifier, msg_start, len(result))\n",
            "/usr/local/lib/python3.7/dist-packages/sklearn/neural_network/_multilayer_perceptron.py:696: ConvergenceWarning: Stochastic Optimizer: Maximum iterations (1000) reached and the optimization hasn't converged yet.\n",
            "  ConvergenceWarning,\n",
            "/usr/local/lib/python3.7/dist-packages/sklearn/metrics/_classification.py:1318: UndefinedMetricWarning: Precision and F-score are ill-defined and being set to 0.0 in labels with no predicted samples. Use `zero_division` parameter to control this behavior.\n",
            "  _warn_prf(average, modifier, msg_start, len(result))\n",
            "/usr/local/lib/python3.7/dist-packages/sklearn/metrics/_classification.py:1318: UndefinedMetricWarning: Precision and F-score are ill-defined and being set to 0.0 in labels with no predicted samples. Use `zero_division` parameter to control this behavior.\n",
            "  _warn_prf(average, modifier, msg_start, len(result))\n",
            "/usr/local/lib/python3.7/dist-packages/sklearn/metrics/_classification.py:1318: UndefinedMetricWarning: Precision and F-score are ill-defined and being set to 0.0 in labels with no predicted samples. Use `zero_division` parameter to control this behavior.\n",
            "  _warn_prf(average, modifier, msg_start, len(result))\n"
          ]
        },
        {
          "output_type": "stream",
          "name": "stdout",
          "text": [
            "metodo de activacion: logistic\n",
            "Tamano de capas: 10\n",
            "              precision    recall  f1-score   support\n",
            "\n",
            "       cinco       0.66      0.73      0.70       169\n",
            "      cuatro       0.00      0.00      0.00        14\n",
            "        ocho       0.00      0.00      0.00         5\n",
            "        seis       0.61      0.68      0.64       170\n",
            "       siete       0.61      0.35      0.44        40\n",
            "        tres       0.00      0.00      0.00         2\n",
            "\n",
            "    accuracy                           0.64       400\n",
            "   macro avg       0.31      0.29      0.30       400\n",
            "weighted avg       0.60      0.64      0.61       400\n",
            "\n"
          ]
        },
        {
          "output_type": "stream",
          "name": "stderr",
          "text": [
            "/usr/local/lib/python3.7/dist-packages/sklearn/neural_network/_multilayer_perceptron.py:696: ConvergenceWarning: Stochastic Optimizer: Maximum iterations (1000) reached and the optimization hasn't converged yet.\n",
            "  ConvergenceWarning,\n",
            "/usr/local/lib/python3.7/dist-packages/sklearn/metrics/_classification.py:1318: UndefinedMetricWarning: Precision and F-score are ill-defined and being set to 0.0 in labels with no predicted samples. Use `zero_division` parameter to control this behavior.\n",
            "  _warn_prf(average, modifier, msg_start, len(result))\n",
            "/usr/local/lib/python3.7/dist-packages/sklearn/metrics/_classification.py:1318: UndefinedMetricWarning: Precision and F-score are ill-defined and being set to 0.0 in labels with no predicted samples. Use `zero_division` parameter to control this behavior.\n",
            "  _warn_prf(average, modifier, msg_start, len(result))\n",
            "/usr/local/lib/python3.7/dist-packages/sklearn/metrics/_classification.py:1318: UndefinedMetricWarning: Precision and F-score are ill-defined and being set to 0.0 in labels with no predicted samples. Use `zero_division` parameter to control this behavior.\n",
            "  _warn_prf(average, modifier, msg_start, len(result))\n"
          ]
        },
        {
          "output_type": "stream",
          "name": "stdout",
          "text": [
            "metodo de activacion: logistic\n",
            "Tamano de capas: 20\n",
            "              precision    recall  f1-score   support\n",
            "\n",
            "       cinco       0.66      0.73      0.70       169\n",
            "      cuatro       0.00      0.00      0.00        14\n",
            "        ocho       0.00      0.00      0.00         5\n",
            "        seis       0.61      0.68      0.64       170\n",
            "       siete       0.61      0.35      0.44        40\n",
            "        tres       0.00      0.00      0.00         2\n",
            "\n",
            "    accuracy                           0.64       400\n",
            "   macro avg       0.31      0.29      0.30       400\n",
            "weighted avg       0.60      0.64      0.61       400\n",
            "\n",
            "metodo de activacion: logistic\n",
            "Tamano de capas: 30\n",
            "              precision    recall  f1-score   support\n",
            "\n",
            "       cinco       0.66      0.73      0.70       169\n",
            "      cuatro       0.00      0.00      0.00        14\n",
            "        ocho       0.00      0.00      0.00         5\n",
            "        seis       0.61      0.68      0.64       170\n",
            "       siete       0.61      0.35      0.44        40\n",
            "        tres       0.00      0.00      0.00         2\n",
            "\n",
            "    accuracy                           0.64       400\n",
            "   macro avg       0.31      0.29      0.30       400\n",
            "weighted avg       0.60      0.64      0.61       400\n",
            "\n"
          ]
        },
        {
          "output_type": "stream",
          "name": "stderr",
          "text": [
            "/usr/local/lib/python3.7/dist-packages/sklearn/metrics/_classification.py:1318: UndefinedMetricWarning: Precision and F-score are ill-defined and being set to 0.0 in labels with no predicted samples. Use `zero_division` parameter to control this behavior.\n",
            "  _warn_prf(average, modifier, msg_start, len(result))\n",
            "/usr/local/lib/python3.7/dist-packages/sklearn/metrics/_classification.py:1318: UndefinedMetricWarning: Precision and F-score are ill-defined and being set to 0.0 in labels with no predicted samples. Use `zero_division` parameter to control this behavior.\n",
            "  _warn_prf(average, modifier, msg_start, len(result))\n",
            "/usr/local/lib/python3.7/dist-packages/sklearn/metrics/_classification.py:1318: UndefinedMetricWarning: Precision and F-score are ill-defined and being set to 0.0 in labels with no predicted samples. Use `zero_division` parameter to control this behavior.\n",
            "  _warn_prf(average, modifier, msg_start, len(result))\n"
          ]
        },
        {
          "output_type": "stream",
          "name": "stdout",
          "text": [
            "metodo de activacion: logistic\n",
            "Tamano de capas: 40\n",
            "              precision    recall  f1-score   support\n",
            "\n",
            "       cinco       0.66      0.73      0.70       169\n",
            "      cuatro       0.00      0.00      0.00        14\n",
            "        ocho       0.00      0.00      0.00         5\n",
            "        seis       0.61      0.68      0.64       170\n",
            "       siete       0.61      0.35      0.44        40\n",
            "        tres       0.00      0.00      0.00         2\n",
            "\n",
            "    accuracy                           0.64       400\n",
            "   macro avg       0.31      0.29      0.30       400\n",
            "weighted avg       0.60      0.64      0.61       400\n",
            "\n"
          ]
        },
        {
          "output_type": "stream",
          "name": "stderr",
          "text": [
            "/usr/local/lib/python3.7/dist-packages/sklearn/metrics/_classification.py:1318: UndefinedMetricWarning: Precision and F-score are ill-defined and being set to 0.0 in labels with no predicted samples. Use `zero_division` parameter to control this behavior.\n",
            "  _warn_prf(average, modifier, msg_start, len(result))\n",
            "/usr/local/lib/python3.7/dist-packages/sklearn/metrics/_classification.py:1318: UndefinedMetricWarning: Precision and F-score are ill-defined and being set to 0.0 in labels with no predicted samples. Use `zero_division` parameter to control this behavior.\n",
            "  _warn_prf(average, modifier, msg_start, len(result))\n",
            "/usr/local/lib/python3.7/dist-packages/sklearn/metrics/_classification.py:1318: UndefinedMetricWarning: Precision and F-score are ill-defined and being set to 0.0 in labels with no predicted samples. Use `zero_division` parameter to control this behavior.\n",
            "  _warn_prf(average, modifier, msg_start, len(result))\n"
          ]
        },
        {
          "output_type": "stream",
          "name": "stdout",
          "text": [
            "metodo de activacion: logistic\n",
            "Tamano de capas: 50\n",
            "              precision    recall  f1-score   support\n",
            "\n",
            "       cinco       0.66      0.73      0.70       169\n",
            "      cuatro       0.00      0.00      0.00        14\n",
            "        ocho       0.00      0.00      0.00         5\n",
            "        seis       0.61      0.68      0.64       170\n",
            "       siete       0.61      0.35      0.44        40\n",
            "        tres       0.00      0.00      0.00         2\n",
            "\n",
            "    accuracy                           0.64       400\n",
            "   macro avg       0.31      0.29      0.30       400\n",
            "weighted avg       0.60      0.64      0.61       400\n",
            "\n"
          ]
        },
        {
          "output_type": "stream",
          "name": "stderr",
          "text": [
            "/usr/local/lib/python3.7/dist-packages/sklearn/metrics/_classification.py:1318: UndefinedMetricWarning: Precision and F-score are ill-defined and being set to 0.0 in labels with no predicted samples. Use `zero_division` parameter to control this behavior.\n",
            "  _warn_prf(average, modifier, msg_start, len(result))\n",
            "/usr/local/lib/python3.7/dist-packages/sklearn/metrics/_classification.py:1318: UndefinedMetricWarning: Precision and F-score are ill-defined and being set to 0.0 in labels with no predicted samples. Use `zero_division` parameter to control this behavior.\n",
            "  _warn_prf(average, modifier, msg_start, len(result))\n",
            "/usr/local/lib/python3.7/dist-packages/sklearn/metrics/_classification.py:1318: UndefinedMetricWarning: Precision and F-score are ill-defined and being set to 0.0 in labels with no predicted samples. Use `zero_division` parameter to control this behavior.\n",
            "  _warn_prf(average, modifier, msg_start, len(result))\n",
            "/usr/local/lib/python3.7/dist-packages/sklearn/neural_network/_multilayer_perceptron.py:696: ConvergenceWarning: Stochastic Optimizer: Maximum iterations (1000) reached and the optimization hasn't converged yet.\n",
            "  ConvergenceWarning,\n",
            "/usr/local/lib/python3.7/dist-packages/sklearn/metrics/_classification.py:1318: UndefinedMetricWarning: Precision and F-score are ill-defined and being set to 0.0 in labels with no predicted samples. Use `zero_division` parameter to control this behavior.\n",
            "  _warn_prf(average, modifier, msg_start, len(result))\n",
            "/usr/local/lib/python3.7/dist-packages/sklearn/metrics/_classification.py:1318: UndefinedMetricWarning: Precision and F-score are ill-defined and being set to 0.0 in labels with no predicted samples. Use `zero_division` parameter to control this behavior.\n",
            "  _warn_prf(average, modifier, msg_start, len(result))\n",
            "/usr/local/lib/python3.7/dist-packages/sklearn/metrics/_classification.py:1318: UndefinedMetricWarning: Precision and F-score are ill-defined and being set to 0.0 in labels with no predicted samples. Use `zero_division` parameter to control this behavior.\n",
            "  _warn_prf(average, modifier, msg_start, len(result))\n"
          ]
        },
        {
          "output_type": "stream",
          "name": "stdout",
          "text": [
            "metodo de activacion: tanh\n",
            "Tamano de capas: 10\n",
            "              precision    recall  f1-score   support\n",
            "\n",
            "       cinco       0.66      0.73      0.70       169\n",
            "      cuatro       0.00      0.00      0.00        14\n",
            "        ocho       0.00      0.00      0.00         5\n",
            "        seis       0.61      0.68      0.64       170\n",
            "       siete       0.61      0.35      0.44        40\n",
            "        tres       0.00      0.00      0.00         2\n",
            "\n",
            "    accuracy                           0.64       400\n",
            "   macro avg       0.31      0.29      0.30       400\n",
            "weighted avg       0.60      0.64      0.61       400\n",
            "\n"
          ]
        },
        {
          "output_type": "stream",
          "name": "stderr",
          "text": [
            "/usr/local/lib/python3.7/dist-packages/sklearn/neural_network/_multilayer_perceptron.py:696: ConvergenceWarning: Stochastic Optimizer: Maximum iterations (1000) reached and the optimization hasn't converged yet.\n",
            "  ConvergenceWarning,\n",
            "/usr/local/lib/python3.7/dist-packages/sklearn/metrics/_classification.py:1318: UndefinedMetricWarning: Precision and F-score are ill-defined and being set to 0.0 in labels with no predicted samples. Use `zero_division` parameter to control this behavior.\n",
            "  _warn_prf(average, modifier, msg_start, len(result))\n",
            "/usr/local/lib/python3.7/dist-packages/sklearn/metrics/_classification.py:1318: UndefinedMetricWarning: Precision and F-score are ill-defined and being set to 0.0 in labels with no predicted samples. Use `zero_division` parameter to control this behavior.\n",
            "  _warn_prf(average, modifier, msg_start, len(result))\n",
            "/usr/local/lib/python3.7/dist-packages/sklearn/metrics/_classification.py:1318: UndefinedMetricWarning: Precision and F-score are ill-defined and being set to 0.0 in labels with no predicted samples. Use `zero_division` parameter to control this behavior.\n",
            "  _warn_prf(average, modifier, msg_start, len(result))\n"
          ]
        },
        {
          "output_type": "stream",
          "name": "stdout",
          "text": [
            "metodo de activacion: tanh\n",
            "Tamano de capas: 20\n",
            "              precision    recall  f1-score   support\n",
            "\n",
            "       cinco       0.66      0.73      0.70       169\n",
            "      cuatro       0.00      0.00      0.00        14\n",
            "        ocho       0.00      0.00      0.00         5\n",
            "        seis       0.61      0.68      0.64       170\n",
            "       siete       0.61      0.35      0.44        40\n",
            "        tres       0.00      0.00      0.00         2\n",
            "\n",
            "    accuracy                           0.64       400\n",
            "   macro avg       0.31      0.29      0.30       400\n",
            "weighted avg       0.60      0.64      0.61       400\n",
            "\n",
            "metodo de activacion: tanh\n",
            "Tamano de capas: 30\n",
            "              precision    recall  f1-score   support\n",
            "\n",
            "       cinco       0.66      0.73      0.70       169\n",
            "      cuatro       0.00      0.00      0.00        14\n",
            "        ocho       0.00      0.00      0.00         5\n",
            "        seis       0.61      0.68      0.64       170\n",
            "       siete       0.61      0.35      0.44        40\n",
            "        tres       0.00      0.00      0.00         2\n",
            "\n",
            "    accuracy                           0.64       400\n",
            "   macro avg       0.31      0.29      0.30       400\n",
            "weighted avg       0.60      0.64      0.61       400\n",
            "\n"
          ]
        },
        {
          "output_type": "stream",
          "name": "stderr",
          "text": [
            "/usr/local/lib/python3.7/dist-packages/sklearn/metrics/_classification.py:1318: UndefinedMetricWarning: Precision and F-score are ill-defined and being set to 0.0 in labels with no predicted samples. Use `zero_division` parameter to control this behavior.\n",
            "  _warn_prf(average, modifier, msg_start, len(result))\n",
            "/usr/local/lib/python3.7/dist-packages/sklearn/metrics/_classification.py:1318: UndefinedMetricWarning: Precision and F-score are ill-defined and being set to 0.0 in labels with no predicted samples. Use `zero_division` parameter to control this behavior.\n",
            "  _warn_prf(average, modifier, msg_start, len(result))\n",
            "/usr/local/lib/python3.7/dist-packages/sklearn/metrics/_classification.py:1318: UndefinedMetricWarning: Precision and F-score are ill-defined and being set to 0.0 in labels with no predicted samples. Use `zero_division` parameter to control this behavior.\n",
            "  _warn_prf(average, modifier, msg_start, len(result))\n"
          ]
        },
        {
          "output_type": "stream",
          "name": "stdout",
          "text": [
            "metodo de activacion: tanh\n",
            "Tamano de capas: 40\n",
            "              precision    recall  f1-score   support\n",
            "\n",
            "       cinco       0.66      0.73      0.70       169\n",
            "      cuatro       0.00      0.00      0.00        14\n",
            "        ocho       0.00      0.00      0.00         5\n",
            "        seis       0.61      0.68      0.64       170\n",
            "       siete       0.61      0.35      0.44        40\n",
            "        tres       0.00      0.00      0.00         2\n",
            "\n",
            "    accuracy                           0.64       400\n",
            "   macro avg       0.31      0.29      0.30       400\n",
            "weighted avg       0.60      0.64      0.61       400\n",
            "\n"
          ]
        },
        {
          "output_type": "stream",
          "name": "stderr",
          "text": [
            "/usr/local/lib/python3.7/dist-packages/sklearn/metrics/_classification.py:1318: UndefinedMetricWarning: Precision and F-score are ill-defined and being set to 0.0 in labels with no predicted samples. Use `zero_division` parameter to control this behavior.\n",
            "  _warn_prf(average, modifier, msg_start, len(result))\n",
            "/usr/local/lib/python3.7/dist-packages/sklearn/metrics/_classification.py:1318: UndefinedMetricWarning: Precision and F-score are ill-defined and being set to 0.0 in labels with no predicted samples. Use `zero_division` parameter to control this behavior.\n",
            "  _warn_prf(average, modifier, msg_start, len(result))\n",
            "/usr/local/lib/python3.7/dist-packages/sklearn/metrics/_classification.py:1318: UndefinedMetricWarning: Precision and F-score are ill-defined and being set to 0.0 in labels with no predicted samples. Use `zero_division` parameter to control this behavior.\n",
            "  _warn_prf(average, modifier, msg_start, len(result))\n"
          ]
        },
        {
          "output_type": "stream",
          "name": "stdout",
          "text": [
            "metodo de activacion: tanh\n",
            "Tamano de capas: 50\n",
            "              precision    recall  f1-score   support\n",
            "\n",
            "       cinco       0.66      0.73      0.70       169\n",
            "      cuatro       0.00      0.00      0.00        14\n",
            "        ocho       0.00      0.00      0.00         5\n",
            "        seis       0.61      0.68      0.64       170\n",
            "       siete       0.61      0.35      0.44        40\n",
            "        tres       0.00      0.00      0.00         2\n",
            "\n",
            "    accuracy                           0.64       400\n",
            "   macro avg       0.31      0.29      0.30       400\n",
            "weighted avg       0.60      0.64      0.61       400\n",
            "\n"
          ]
        },
        {
          "output_type": "stream",
          "name": "stderr",
          "text": [
            "/usr/local/lib/python3.7/dist-packages/sklearn/metrics/_classification.py:1318: UndefinedMetricWarning: Precision and F-score are ill-defined and being set to 0.0 in labels with no predicted samples. Use `zero_division` parameter to control this behavior.\n",
            "  _warn_prf(average, modifier, msg_start, len(result))\n",
            "/usr/local/lib/python3.7/dist-packages/sklearn/metrics/_classification.py:1318: UndefinedMetricWarning: Precision and F-score are ill-defined and being set to 0.0 in labels with no predicted samples. Use `zero_division` parameter to control this behavior.\n",
            "  _warn_prf(average, modifier, msg_start, len(result))\n",
            "/usr/local/lib/python3.7/dist-packages/sklearn/metrics/_classification.py:1318: UndefinedMetricWarning: Precision and F-score are ill-defined and being set to 0.0 in labels with no predicted samples. Use `zero_division` parameter to control this behavior.\n",
            "  _warn_prf(average, modifier, msg_start, len(result))\n",
            "/usr/local/lib/python3.7/dist-packages/sklearn/neural_network/_multilayer_perceptron.py:696: ConvergenceWarning: Stochastic Optimizer: Maximum iterations (1000) reached and the optimization hasn't converged yet.\n",
            "  ConvergenceWarning,\n",
            "/usr/local/lib/python3.7/dist-packages/sklearn/metrics/_classification.py:1318: UndefinedMetricWarning: Precision and F-score are ill-defined and being set to 0.0 in labels with no predicted samples. Use `zero_division` parameter to control this behavior.\n",
            "  _warn_prf(average, modifier, msg_start, len(result))\n",
            "/usr/local/lib/python3.7/dist-packages/sklearn/metrics/_classification.py:1318: UndefinedMetricWarning: Precision and F-score are ill-defined and being set to 0.0 in labels with no predicted samples. Use `zero_division` parameter to control this behavior.\n",
            "  _warn_prf(average, modifier, msg_start, len(result))\n",
            "/usr/local/lib/python3.7/dist-packages/sklearn/metrics/_classification.py:1318: UndefinedMetricWarning: Precision and F-score are ill-defined and being set to 0.0 in labels with no predicted samples. Use `zero_division` parameter to control this behavior.\n",
            "  _warn_prf(average, modifier, msg_start, len(result))\n"
          ]
        },
        {
          "output_type": "stream",
          "name": "stdout",
          "text": [
            "metodo de activacion: relu\n",
            "Tamano de capas: 10\n",
            "              precision    recall  f1-score   support\n",
            "\n",
            "       cinco       0.66      0.73      0.70       169\n",
            "      cuatro       0.00      0.00      0.00        14\n",
            "        ocho       0.00      0.00      0.00         5\n",
            "        seis       0.61      0.68      0.64       170\n",
            "       siete       0.61      0.35      0.44        40\n",
            "        tres       0.00      0.00      0.00         2\n",
            "\n",
            "    accuracy                           0.64       400\n",
            "   macro avg       0.31      0.29      0.30       400\n",
            "weighted avg       0.60      0.64      0.61       400\n",
            "\n",
            "metodo de activacion: relu\n",
            "Tamano de capas: 20\n",
            "              precision    recall  f1-score   support\n",
            "\n",
            "       cinco       0.66      0.73      0.70       169\n",
            "      cuatro       0.00      0.00      0.00        14\n",
            "        ocho       0.00      0.00      0.00         5\n",
            "        seis       0.61      0.68      0.64       170\n",
            "       siete       0.61      0.35      0.44        40\n",
            "        tres       0.00      0.00      0.00         2\n",
            "\n",
            "    accuracy                           0.64       400\n",
            "   macro avg       0.31      0.29      0.30       400\n",
            "weighted avg       0.60      0.64      0.61       400\n",
            "\n"
          ]
        },
        {
          "output_type": "stream",
          "name": "stderr",
          "text": [
            "/usr/local/lib/python3.7/dist-packages/sklearn/metrics/_classification.py:1318: UndefinedMetricWarning: Precision and F-score are ill-defined and being set to 0.0 in labels with no predicted samples. Use `zero_division` parameter to control this behavior.\n",
            "  _warn_prf(average, modifier, msg_start, len(result))\n",
            "/usr/local/lib/python3.7/dist-packages/sklearn/metrics/_classification.py:1318: UndefinedMetricWarning: Precision and F-score are ill-defined and being set to 0.0 in labels with no predicted samples. Use `zero_division` parameter to control this behavior.\n",
            "  _warn_prf(average, modifier, msg_start, len(result))\n",
            "/usr/local/lib/python3.7/dist-packages/sklearn/metrics/_classification.py:1318: UndefinedMetricWarning: Precision and F-score are ill-defined and being set to 0.0 in labels with no predicted samples. Use `zero_division` parameter to control this behavior.\n",
            "  _warn_prf(average, modifier, msg_start, len(result))\n"
          ]
        },
        {
          "output_type": "stream",
          "name": "stdout",
          "text": [
            "metodo de activacion: relu\n",
            "Tamano de capas: 30\n",
            "              precision    recall  f1-score   support\n",
            "\n",
            "       cinco       0.66      0.73      0.70       169\n",
            "      cuatro       0.00      0.00      0.00        14\n",
            "        ocho       0.00      0.00      0.00         5\n",
            "        seis       0.61      0.68      0.64       170\n",
            "       siete       0.61      0.35      0.44        40\n",
            "        tres       0.00      0.00      0.00         2\n",
            "\n",
            "    accuracy                           0.64       400\n",
            "   macro avg       0.31      0.29      0.30       400\n",
            "weighted avg       0.60      0.64      0.61       400\n",
            "\n"
          ]
        },
        {
          "output_type": "stream",
          "name": "stderr",
          "text": [
            "/usr/local/lib/python3.7/dist-packages/sklearn/metrics/_classification.py:1318: UndefinedMetricWarning: Precision and F-score are ill-defined and being set to 0.0 in labels with no predicted samples. Use `zero_division` parameter to control this behavior.\n",
            "  _warn_prf(average, modifier, msg_start, len(result))\n",
            "/usr/local/lib/python3.7/dist-packages/sklearn/metrics/_classification.py:1318: UndefinedMetricWarning: Precision and F-score are ill-defined and being set to 0.0 in labels with no predicted samples. Use `zero_division` parameter to control this behavior.\n",
            "  _warn_prf(average, modifier, msg_start, len(result))\n",
            "/usr/local/lib/python3.7/dist-packages/sklearn/metrics/_classification.py:1318: UndefinedMetricWarning: Precision and F-score are ill-defined and being set to 0.0 in labels with no predicted samples. Use `zero_division` parameter to control this behavior.\n",
            "  _warn_prf(average, modifier, msg_start, len(result))\n"
          ]
        },
        {
          "output_type": "stream",
          "name": "stdout",
          "text": [
            "metodo de activacion: relu\n",
            "Tamano de capas: 40\n",
            "              precision    recall  f1-score   support\n",
            "\n",
            "       cinco       0.66      0.73      0.70       169\n",
            "      cuatro       0.00      0.00      0.00        14\n",
            "        ocho       0.00      0.00      0.00         5\n",
            "        seis       0.61      0.68      0.64       170\n",
            "       siete       0.61      0.35      0.44        40\n",
            "        tres       0.00      0.00      0.00         2\n",
            "\n",
            "    accuracy                           0.64       400\n",
            "   macro avg       0.31      0.29      0.30       400\n",
            "weighted avg       0.60      0.64      0.61       400\n",
            "\n"
          ]
        },
        {
          "output_type": "stream",
          "name": "stderr",
          "text": [
            "/usr/local/lib/python3.7/dist-packages/sklearn/metrics/_classification.py:1318: UndefinedMetricWarning: Precision and F-score are ill-defined and being set to 0.0 in labels with no predicted samples. Use `zero_division` parameter to control this behavior.\n",
            "  _warn_prf(average, modifier, msg_start, len(result))\n",
            "/usr/local/lib/python3.7/dist-packages/sklearn/metrics/_classification.py:1318: UndefinedMetricWarning: Precision and F-score are ill-defined and being set to 0.0 in labels with no predicted samples. Use `zero_division` parameter to control this behavior.\n",
            "  _warn_prf(average, modifier, msg_start, len(result))\n",
            "/usr/local/lib/python3.7/dist-packages/sklearn/metrics/_classification.py:1318: UndefinedMetricWarning: Precision and F-score are ill-defined and being set to 0.0 in labels with no predicted samples. Use `zero_division` parameter to control this behavior.\n",
            "  _warn_prf(average, modifier, msg_start, len(result))\n"
          ]
        },
        {
          "output_type": "stream",
          "name": "stdout",
          "text": [
            "metodo de activacion: relu\n",
            "Tamano de capas: 50\n",
            "              precision    recall  f1-score   support\n",
            "\n",
            "       cinco       0.66      0.73      0.70       169\n",
            "      cuatro       0.00      0.00      0.00        14\n",
            "        ocho       0.00      0.00      0.00         5\n",
            "        seis       0.61      0.68      0.64       170\n",
            "       siete       0.61      0.35      0.44        40\n",
            "        tres       0.00      0.00      0.00         2\n",
            "\n",
            "    accuracy                           0.64       400\n",
            "   macro avg       0.31      0.29      0.30       400\n",
            "weighted avg       0.60      0.64      0.61       400\n",
            "\n",
            "[0.64, 0.6475, 0.64, 0.6325, 0.6375, 0.6, 0.6175, 0.6025, 0.6075, 0.5925, 0.6025, 0.605, 0.62, 0.6225, 0.5925, 0.6275, 0.6125, 0.65, 0.6075, 0.6125]\n",
            "[0.64, 0.6475, 0.64, 0.6325, 0.6375, 0.6, 0.6175, 0.6025, 0.6075, 0.5925, 0.6025, 0.605, 0.62, 0.6225, 0.5925, 0.6275, 0.6125, 0.65, 0.6075, 0.6125]\n",
            "[0.40466742981246556, 0.41663348419676743, 0.40252247644808337, 0.3955562556114036, 0.39862736021755646, 0.34627129796577943, 0.37073774769873, 0.3500479342919961, 0.3603112936474103, 0.34382427990531167, 0.3627495669421946, 0.380219615622786, 0.3961222374837941, 0.40762917874057825, 0.35766792097732797, 0.4072639214954576, 0.3877956680331222, 0.4392171330102666, 0.37903857490024734, 0.3809271034702023]\n"
          ]
        },
        {
          "output_type": "stream",
          "name": "stderr",
          "text": [
            "/usr/local/lib/python3.7/dist-packages/sklearn/metrics/_classification.py:1318: UndefinedMetricWarning: Precision and F-score are ill-defined and being set to 0.0 in labels with no predicted samples. Use `zero_division` parameter to control this behavior.\n",
            "  _warn_prf(average, modifier, msg_start, len(result))\n",
            "/usr/local/lib/python3.7/dist-packages/sklearn/metrics/_classification.py:1318: UndefinedMetricWarning: Precision and F-score are ill-defined and being set to 0.0 in labels with no predicted samples. Use `zero_division` parameter to control this behavior.\n",
            "  _warn_prf(average, modifier, msg_start, len(result))\n",
            "/usr/local/lib/python3.7/dist-packages/sklearn/metrics/_classification.py:1318: UndefinedMetricWarning: Precision and F-score are ill-defined and being set to 0.0 in labels with no predicted samples. Use `zero_division` parameter to control this behavior.\n",
            "  _warn_prf(average, modifier, msg_start, len(result))\n"
          ]
        }
      ]
    },
    {
      "cell_type": "markdown",
      "source": [
        "# KNN"
      ],
      "metadata": {
        "id": "e2dlQzriADqY"
      }
    },
    {
      "cell_type": "code",
      "source": [
        "weight = ['uniform', 'distance']\n",
        "\n",
        "a_knn = []\n",
        "f1_knn = []\n",
        "mcc_knn = []\n",
        "\n",
        "\n",
        "for g in [0,1]:\n",
        "  for m in range(1,10):\n",
        "    n_neighbors = m\n",
        " \n",
        "    knn = KNeighborsClassifier(n_neighbors)\n",
        "    knn.fit(X_train, y_train)\n",
        " \n",
        "    y_test_predicted_knn = knn.predict(X_test)\n",
        "\n",
        "    acc = accuracy_score(y_test, y_test_predicted_knn)\n",
        "    a_knn.append(acc)\n",
        "    f1 = f1_score(y_test, y_test_predicted_knn,average='micro')\n",
        "    f1_knn.append(f1)\n",
        "    mcc = matthews_corrcoef(y_test, y_test_predicted_knn)\n",
        "    mcc_knn.append(mcc)\n",
        "\n",
        "    print('Vecinos:',m)\n",
        "    print(classification_report(y_test, y_test_predicted_knn))\n",
        "\n",
        "\n",
        "print(a_knn)\n",
        "print(f1_knn)\n",
        "print(mcc_knn)"
      ],
      "metadata": {
        "colab": {
          "base_uri": "https://localhost:8080/"
        },
        "id": "twjyQvvhAHqU",
        "outputId": "033fe122-a70e-485a-e2df-50d77c11b9dc"
      },
      "execution_count": 74,
      "outputs": [
        {
          "output_type": "stream",
          "name": "stdout",
          "text": [
            "Vecinos: 1\n",
            "              precision    recall  f1-score   support\n",
            "\n",
            "       cinco       0.69      0.65      0.67       169\n",
            "      cuatro       0.10      0.07      0.08        14\n",
            "        ocho       0.00      0.00      0.00         5\n",
            "        seis       0.63      0.64      0.63       170\n",
            "       siete       0.51      0.68      0.58        40\n",
            "        tres       0.00      0.00      0.00         2\n",
            "\n",
            "    accuracy                           0.61       400\n",
            "   macro avg       0.32      0.34      0.33       400\n",
            "weighted avg       0.62      0.61      0.61       400\n",
            "\n",
            "Vecinos: 2\n",
            "              precision    recall  f1-score   support\n",
            "\n",
            "       cinco       0.60      0.80      0.69       169\n",
            "      cuatro       0.00      0.00      0.00        14\n",
            "        ocho       0.00      0.00      0.00         5\n",
            "        seis       0.64      0.49      0.56       170\n",
            "       siete       0.67      0.45      0.54        40\n",
            "        tres       0.00      0.00      0.00         2\n",
            "\n",
            "    accuracy                           0.59       400\n",
            "   macro avg       0.32      0.29      0.30       400\n",
            "weighted avg       0.59      0.59      0.58       400\n",
            "\n",
            "Vecinos: 3\n",
            "              precision    recall  f1-score   support\n",
            "\n",
            "       cinco       0.64      0.72      0.67       169\n",
            "      cuatro       0.50      0.07      0.12        14\n",
            "        ocho       0.00      0.00      0.00         5\n",
            "        seis       0.62      0.59      0.61       170\n",
            "       siete       0.50      0.55      0.52        40\n",
            "        tres       0.00      0.00      0.00         2\n",
            "\n",
            "    accuracy                           0.61       400\n",
            "   macro avg       0.38      0.32      0.32       400\n",
            "weighted avg       0.60      0.61      0.60       400\n",
            "\n",
            "Vecinos: 4\n",
            "              precision    recall  f1-score   support\n",
            "\n",
            "       cinco       0.64      0.76      0.70       169\n",
            "      cuatro       0.00      0.00      0.00        14\n",
            "        ocho       0.00      0.00      0.00         5\n",
            "        seis       0.62      0.54      0.58       170\n",
            "       siete       0.48      0.57      0.52        40\n",
            "        tres       0.00      0.00      0.00         2\n",
            "\n",
            "    accuracy                           0.61       400\n",
            "   macro avg       0.29      0.31      0.30       400\n",
            "weighted avg       0.58      0.61      0.59       400\n",
            "\n",
            "Vecinos: 5\n",
            "              precision    recall  f1-score   support\n",
            "\n",
            "       cinco       0.67      0.71      0.69       169\n",
            "      cuatro       0.00      0.00      0.00        14\n",
            "        ocho       0.00      0.00      0.00         5\n",
            "        seis       0.61      0.60      0.60       170\n",
            "       siete       0.46      0.57      0.51        40\n",
            "        tres       0.00      0.00      0.00         2\n",
            "\n",
            "    accuracy                           0.61       400\n",
            "   macro avg       0.29      0.31      0.30       400\n",
            "weighted avg       0.59      0.61      0.60       400\n",
            "\n",
            "Vecinos: 6\n"
          ]
        },
        {
          "output_type": "stream",
          "name": "stderr",
          "text": [
            "/usr/local/lib/python3.7/dist-packages/sklearn/metrics/_classification.py:1318: UndefinedMetricWarning: Precision and F-score are ill-defined and being set to 0.0 in labels with no predicted samples. Use `zero_division` parameter to control this behavior.\n",
            "  _warn_prf(average, modifier, msg_start, len(result))\n",
            "/usr/local/lib/python3.7/dist-packages/sklearn/metrics/_classification.py:1318: UndefinedMetricWarning: Precision and F-score are ill-defined and being set to 0.0 in labels with no predicted samples. Use `zero_division` parameter to control this behavior.\n",
            "  _warn_prf(average, modifier, msg_start, len(result))\n",
            "/usr/local/lib/python3.7/dist-packages/sklearn/metrics/_classification.py:1318: UndefinedMetricWarning: Precision and F-score are ill-defined and being set to 0.0 in labels with no predicted samples. Use `zero_division` parameter to control this behavior.\n",
            "  _warn_prf(average, modifier, msg_start, len(result))\n",
            "/usr/local/lib/python3.7/dist-packages/sklearn/metrics/_classification.py:1318: UndefinedMetricWarning: Precision and F-score are ill-defined and being set to 0.0 in labels with no predicted samples. Use `zero_division` parameter to control this behavior.\n",
            "  _warn_prf(average, modifier, msg_start, len(result))\n",
            "/usr/local/lib/python3.7/dist-packages/sklearn/metrics/_classification.py:1318: UndefinedMetricWarning: Precision and F-score are ill-defined and being set to 0.0 in labels with no predicted samples. Use `zero_division` parameter to control this behavior.\n",
            "  _warn_prf(average, modifier, msg_start, len(result))\n",
            "/usr/local/lib/python3.7/dist-packages/sklearn/metrics/_classification.py:1318: UndefinedMetricWarning: Precision and F-score are ill-defined and being set to 0.0 in labels with no predicted samples. Use `zero_division` parameter to control this behavior.\n",
            "  _warn_prf(average, modifier, msg_start, len(result))\n",
            "/usr/local/lib/python3.7/dist-packages/sklearn/metrics/_classification.py:1318: UndefinedMetricWarning: Precision and F-score are ill-defined and being set to 0.0 in labels with no predicted samples. Use `zero_division` parameter to control this behavior.\n",
            "  _warn_prf(average, modifier, msg_start, len(result))\n",
            "/usr/local/lib/python3.7/dist-packages/sklearn/metrics/_classification.py:1318: UndefinedMetricWarning: Precision and F-score are ill-defined and being set to 0.0 in labels with no predicted samples. Use `zero_division` parameter to control this behavior.\n",
            "  _warn_prf(average, modifier, msg_start, len(result))\n",
            "/usr/local/lib/python3.7/dist-packages/sklearn/metrics/_classification.py:1318: UndefinedMetricWarning: Precision and F-score are ill-defined and being set to 0.0 in labels with no predicted samples. Use `zero_division` parameter to control this behavior.\n",
            "  _warn_prf(average, modifier, msg_start, len(result))\n",
            "/usr/local/lib/python3.7/dist-packages/sklearn/metrics/_classification.py:1318: UndefinedMetricWarning: Precision and F-score are ill-defined and being set to 0.0 in labels with no predicted samples. Use `zero_division` parameter to control this behavior.\n",
            "  _warn_prf(average, modifier, msg_start, len(result))\n",
            "/usr/local/lib/python3.7/dist-packages/sklearn/metrics/_classification.py:1318: UndefinedMetricWarning: Precision and F-score are ill-defined and being set to 0.0 in labels with no predicted samples. Use `zero_division` parameter to control this behavior.\n",
            "  _warn_prf(average, modifier, msg_start, len(result))\n",
            "/usr/local/lib/python3.7/dist-packages/sklearn/metrics/_classification.py:1318: UndefinedMetricWarning: Precision and F-score are ill-defined and being set to 0.0 in labels with no predicted samples. Use `zero_division` parameter to control this behavior.\n",
            "  _warn_prf(average, modifier, msg_start, len(result))\n",
            "/usr/local/lib/python3.7/dist-packages/sklearn/metrics/_classification.py:1318: UndefinedMetricWarning: Precision and F-score are ill-defined and being set to 0.0 in labels with no predicted samples. Use `zero_division` parameter to control this behavior.\n",
            "  _warn_prf(average, modifier, msg_start, len(result))\n",
            "/usr/local/lib/python3.7/dist-packages/sklearn/metrics/_classification.py:1318: UndefinedMetricWarning: Precision and F-score are ill-defined and being set to 0.0 in labels with no predicted samples. Use `zero_division` parameter to control this behavior.\n",
            "  _warn_prf(average, modifier, msg_start, len(result))\n",
            "/usr/local/lib/python3.7/dist-packages/sklearn/metrics/_classification.py:1318: UndefinedMetricWarning: Precision and F-score are ill-defined and being set to 0.0 in labels with no predicted samples. Use `zero_division` parameter to control this behavior.\n",
            "  _warn_prf(average, modifier, msg_start, len(result))\n"
          ]
        },
        {
          "output_type": "stream",
          "name": "stdout",
          "text": [
            "              precision    recall  f1-score   support\n",
            "\n",
            "       cinco       0.63      0.73      0.68       169\n",
            "      cuatro       0.00      0.00      0.00        14\n",
            "        ocho       0.00      0.00      0.00         5\n",
            "        seis       0.61      0.54      0.57       170\n",
            "       siete       0.44      0.57      0.50        40\n",
            "        tres       0.00      0.00      0.00         2\n",
            "\n",
            "    accuracy                           0.59       400\n",
            "   macro avg       0.28      0.31      0.29       400\n",
            "weighted avg       0.57      0.59      0.58       400\n",
            "\n",
            "Vecinos: 7\n",
            "              precision    recall  f1-score   support\n",
            "\n",
            "       cinco       0.64      0.70      0.67       169\n",
            "      cuatro       0.00      0.00      0.00        14\n",
            "        ocho       0.00      0.00      0.00         5\n",
            "        seis       0.59      0.56      0.58       170\n",
            "       siete       0.42      0.55      0.47        40\n",
            "        tres       0.00      0.00      0.00         2\n",
            "\n",
            "    accuracy                           0.59       400\n",
            "   macro avg       0.27      0.30      0.29       400\n",
            "weighted avg       0.56      0.59      0.57       400\n",
            "\n",
            "Vecinos: 8\n",
            "              precision    recall  f1-score   support\n",
            "\n",
            "       cinco       0.62      0.70      0.66       169\n",
            "      cuatro       0.00      0.00      0.00        14\n",
            "        ocho       0.00      0.00      0.00         5\n",
            "        seis       0.61      0.55      0.58       170\n",
            "       siete       0.40      0.53      0.46        40\n",
            "        tres       0.00      0.00      0.00         2\n",
            "\n",
            "    accuracy                           0.58       400\n",
            "   macro avg       0.27      0.30      0.28       400\n",
            "weighted avg       0.56      0.58      0.57       400\n",
            "\n",
            "Vecinos: 9\n",
            "              precision    recall  f1-score   support\n",
            "\n",
            "       cinco       0.62      0.67      0.64       169\n",
            "      cuatro       0.00      0.00      0.00        14\n",
            "        ocho       0.00      0.00      0.00         5\n",
            "        seis       0.57      0.54      0.55       170\n",
            "       siete       0.41      0.57      0.48        40\n",
            "        tres       0.00      0.00      0.00         2\n",
            "\n",
            "    accuracy                           0.57       400\n",
            "   macro avg       0.27      0.30      0.28       400\n",
            "weighted avg       0.54      0.57      0.55       400\n",
            "\n",
            "Vecinos: 1\n",
            "              precision    recall  f1-score   support\n",
            "\n",
            "       cinco       0.69      0.65      0.67       169\n",
            "      cuatro       0.10      0.07      0.08        14\n",
            "        ocho       0.00      0.00      0.00         5\n",
            "        seis       0.63      0.64      0.63       170\n",
            "       siete       0.51      0.68      0.58        40\n",
            "        tres       0.00      0.00      0.00         2\n",
            "\n",
            "    accuracy                           0.61       400\n",
            "   macro avg       0.32      0.34      0.33       400\n",
            "weighted avg       0.62      0.61      0.61       400\n",
            "\n",
            "Vecinos: 2\n",
            "              precision    recall  f1-score   support\n",
            "\n",
            "       cinco       0.60      0.80      0.69       169\n",
            "      cuatro       0.00      0.00      0.00        14\n",
            "        ocho       0.00      0.00      0.00         5\n",
            "        seis       0.64      0.49      0.56       170\n",
            "       siete       0.67      0.45      0.54        40\n",
            "        tres       0.00      0.00      0.00         2\n",
            "\n",
            "    accuracy                           0.59       400\n",
            "   macro avg       0.32      0.29      0.30       400\n",
            "weighted avg       0.59      0.59      0.58       400\n",
            "\n"
          ]
        },
        {
          "output_type": "stream",
          "name": "stderr",
          "text": [
            "/usr/local/lib/python3.7/dist-packages/sklearn/metrics/_classification.py:1318: UndefinedMetricWarning: Precision and F-score are ill-defined and being set to 0.0 in labels with no predicted samples. Use `zero_division` parameter to control this behavior.\n",
            "  _warn_prf(average, modifier, msg_start, len(result))\n",
            "/usr/local/lib/python3.7/dist-packages/sklearn/metrics/_classification.py:1318: UndefinedMetricWarning: Precision and F-score are ill-defined and being set to 0.0 in labels with no predicted samples. Use `zero_division` parameter to control this behavior.\n",
            "  _warn_prf(average, modifier, msg_start, len(result))\n",
            "/usr/local/lib/python3.7/dist-packages/sklearn/metrics/_classification.py:1318: UndefinedMetricWarning: Precision and F-score are ill-defined and being set to 0.0 in labels with no predicted samples. Use `zero_division` parameter to control this behavior.\n",
            "  _warn_prf(average, modifier, msg_start, len(result))\n",
            "/usr/local/lib/python3.7/dist-packages/sklearn/metrics/_classification.py:1318: UndefinedMetricWarning: Precision and F-score are ill-defined and being set to 0.0 in labels with no predicted samples. Use `zero_division` parameter to control this behavior.\n",
            "  _warn_prf(average, modifier, msg_start, len(result))\n",
            "/usr/local/lib/python3.7/dist-packages/sklearn/metrics/_classification.py:1318: UndefinedMetricWarning: Precision and F-score are ill-defined and being set to 0.0 in labels with no predicted samples. Use `zero_division` parameter to control this behavior.\n",
            "  _warn_prf(average, modifier, msg_start, len(result))\n",
            "/usr/local/lib/python3.7/dist-packages/sklearn/metrics/_classification.py:1318: UndefinedMetricWarning: Precision and F-score are ill-defined and being set to 0.0 in labels with no predicted samples. Use `zero_division` parameter to control this behavior.\n",
            "  _warn_prf(average, modifier, msg_start, len(result))\n",
            "/usr/local/lib/python3.7/dist-packages/sklearn/metrics/_classification.py:1318: UndefinedMetricWarning: Precision and F-score are ill-defined and being set to 0.0 in labels with no predicted samples. Use `zero_division` parameter to control this behavior.\n",
            "  _warn_prf(average, modifier, msg_start, len(result))\n",
            "/usr/local/lib/python3.7/dist-packages/sklearn/metrics/_classification.py:1318: UndefinedMetricWarning: Precision and F-score are ill-defined and being set to 0.0 in labels with no predicted samples. Use `zero_division` parameter to control this behavior.\n",
            "  _warn_prf(average, modifier, msg_start, len(result))\n",
            "/usr/local/lib/python3.7/dist-packages/sklearn/metrics/_classification.py:1318: UndefinedMetricWarning: Precision and F-score are ill-defined and being set to 0.0 in labels with no predicted samples. Use `zero_division` parameter to control this behavior.\n",
            "  _warn_prf(average, modifier, msg_start, len(result))\n",
            "/usr/local/lib/python3.7/dist-packages/sklearn/metrics/_classification.py:1318: UndefinedMetricWarning: Precision and F-score are ill-defined and being set to 0.0 in labels with no predicted samples. Use `zero_division` parameter to control this behavior.\n",
            "  _warn_prf(average, modifier, msg_start, len(result))\n",
            "/usr/local/lib/python3.7/dist-packages/sklearn/metrics/_classification.py:1318: UndefinedMetricWarning: Precision and F-score are ill-defined and being set to 0.0 in labels with no predicted samples. Use `zero_division` parameter to control this behavior.\n",
            "  _warn_prf(average, modifier, msg_start, len(result))\n",
            "/usr/local/lib/python3.7/dist-packages/sklearn/metrics/_classification.py:1318: UndefinedMetricWarning: Precision and F-score are ill-defined and being set to 0.0 in labels with no predicted samples. Use `zero_division` parameter to control this behavior.\n",
            "  _warn_prf(average, modifier, msg_start, len(result))\n",
            "/usr/local/lib/python3.7/dist-packages/sklearn/metrics/_classification.py:1318: UndefinedMetricWarning: Precision and F-score are ill-defined and being set to 0.0 in labels with no predicted samples. Use `zero_division` parameter to control this behavior.\n",
            "  _warn_prf(average, modifier, msg_start, len(result))\n"
          ]
        },
        {
          "output_type": "stream",
          "name": "stdout",
          "text": [
            "Vecinos: 3\n",
            "              precision    recall  f1-score   support\n",
            "\n",
            "       cinco       0.64      0.72      0.67       169\n",
            "      cuatro       0.50      0.07      0.12        14\n",
            "        ocho       0.00      0.00      0.00         5\n",
            "        seis       0.62      0.59      0.61       170\n",
            "       siete       0.50      0.55      0.52        40\n",
            "        tres       0.00      0.00      0.00         2\n",
            "\n",
            "    accuracy                           0.61       400\n",
            "   macro avg       0.38      0.32      0.32       400\n",
            "weighted avg       0.60      0.61      0.60       400\n",
            "\n",
            "Vecinos: 4\n",
            "              precision    recall  f1-score   support\n",
            "\n",
            "       cinco       0.64      0.76      0.70       169\n",
            "      cuatro       0.00      0.00      0.00        14\n",
            "        ocho       0.00      0.00      0.00         5\n",
            "        seis       0.62      0.54      0.58       170\n",
            "       siete       0.48      0.57      0.52        40\n",
            "        tres       0.00      0.00      0.00         2\n",
            "\n",
            "    accuracy                           0.61       400\n",
            "   macro avg       0.29      0.31      0.30       400\n",
            "weighted avg       0.58      0.61      0.59       400\n",
            "\n",
            "Vecinos: 5\n",
            "              precision    recall  f1-score   support\n",
            "\n",
            "       cinco       0.67      0.71      0.69       169\n",
            "      cuatro       0.00      0.00      0.00        14\n",
            "        ocho       0.00      0.00      0.00         5\n",
            "        seis       0.61      0.60      0.60       170\n",
            "       siete       0.46      0.57      0.51        40\n",
            "        tres       0.00      0.00      0.00         2\n",
            "\n",
            "    accuracy                           0.61       400\n",
            "   macro avg       0.29      0.31      0.30       400\n",
            "weighted avg       0.59      0.61      0.60       400\n",
            "\n",
            "Vecinos: 6\n"
          ]
        },
        {
          "output_type": "stream",
          "name": "stderr",
          "text": [
            "/usr/local/lib/python3.7/dist-packages/sklearn/metrics/_classification.py:1318: UndefinedMetricWarning: Precision and F-score are ill-defined and being set to 0.0 in labels with no predicted samples. Use `zero_division` parameter to control this behavior.\n",
            "  _warn_prf(average, modifier, msg_start, len(result))\n",
            "/usr/local/lib/python3.7/dist-packages/sklearn/metrics/_classification.py:1318: UndefinedMetricWarning: Precision and F-score are ill-defined and being set to 0.0 in labels with no predicted samples. Use `zero_division` parameter to control this behavior.\n",
            "  _warn_prf(average, modifier, msg_start, len(result))\n",
            "/usr/local/lib/python3.7/dist-packages/sklearn/metrics/_classification.py:1318: UndefinedMetricWarning: Precision and F-score are ill-defined and being set to 0.0 in labels with no predicted samples. Use `zero_division` parameter to control this behavior.\n",
            "  _warn_prf(average, modifier, msg_start, len(result))\n",
            "/usr/local/lib/python3.7/dist-packages/sklearn/metrics/_classification.py:1318: UndefinedMetricWarning: Precision and F-score are ill-defined and being set to 0.0 in labels with no predicted samples. Use `zero_division` parameter to control this behavior.\n",
            "  _warn_prf(average, modifier, msg_start, len(result))\n",
            "/usr/local/lib/python3.7/dist-packages/sklearn/metrics/_classification.py:1318: UndefinedMetricWarning: Precision and F-score are ill-defined and being set to 0.0 in labels with no predicted samples. Use `zero_division` parameter to control this behavior.\n",
            "  _warn_prf(average, modifier, msg_start, len(result))\n",
            "/usr/local/lib/python3.7/dist-packages/sklearn/metrics/_classification.py:1318: UndefinedMetricWarning: Precision and F-score are ill-defined and being set to 0.0 in labels with no predicted samples. Use `zero_division` parameter to control this behavior.\n",
            "  _warn_prf(average, modifier, msg_start, len(result))\n",
            "/usr/local/lib/python3.7/dist-packages/sklearn/metrics/_classification.py:1318: UndefinedMetricWarning: Precision and F-score are ill-defined and being set to 0.0 in labels with no predicted samples. Use `zero_division` parameter to control this behavior.\n",
            "  _warn_prf(average, modifier, msg_start, len(result))\n",
            "/usr/local/lib/python3.7/dist-packages/sklearn/metrics/_classification.py:1318: UndefinedMetricWarning: Precision and F-score are ill-defined and being set to 0.0 in labels with no predicted samples. Use `zero_division` parameter to control this behavior.\n",
            "  _warn_prf(average, modifier, msg_start, len(result))\n",
            "/usr/local/lib/python3.7/dist-packages/sklearn/metrics/_classification.py:1318: UndefinedMetricWarning: Precision and F-score are ill-defined and being set to 0.0 in labels with no predicted samples. Use `zero_division` parameter to control this behavior.\n",
            "  _warn_prf(average, modifier, msg_start, len(result))\n",
            "/usr/local/lib/python3.7/dist-packages/sklearn/metrics/_classification.py:1318: UndefinedMetricWarning: Precision and F-score are ill-defined and being set to 0.0 in labels with no predicted samples. Use `zero_division` parameter to control this behavior.\n",
            "  _warn_prf(average, modifier, msg_start, len(result))\n",
            "/usr/local/lib/python3.7/dist-packages/sklearn/metrics/_classification.py:1318: UndefinedMetricWarning: Precision and F-score are ill-defined and being set to 0.0 in labels with no predicted samples. Use `zero_division` parameter to control this behavior.\n",
            "  _warn_prf(average, modifier, msg_start, len(result))\n"
          ]
        },
        {
          "output_type": "stream",
          "name": "stdout",
          "text": [
            "              precision    recall  f1-score   support\n",
            "\n",
            "       cinco       0.63      0.73      0.68       169\n",
            "      cuatro       0.00      0.00      0.00        14\n",
            "        ocho       0.00      0.00      0.00         5\n",
            "        seis       0.61      0.54      0.57       170\n",
            "       siete       0.44      0.57      0.50        40\n",
            "        tres       0.00      0.00      0.00         2\n",
            "\n",
            "    accuracy                           0.59       400\n",
            "   macro avg       0.28      0.31      0.29       400\n",
            "weighted avg       0.57      0.59      0.58       400\n",
            "\n",
            "Vecinos: 7\n",
            "              precision    recall  f1-score   support\n",
            "\n",
            "       cinco       0.64      0.70      0.67       169\n",
            "      cuatro       0.00      0.00      0.00        14\n",
            "        ocho       0.00      0.00      0.00         5\n",
            "        seis       0.59      0.56      0.58       170\n",
            "       siete       0.42      0.55      0.47        40\n",
            "        tres       0.00      0.00      0.00         2\n",
            "\n",
            "    accuracy                           0.59       400\n",
            "   macro avg       0.27      0.30      0.29       400\n",
            "weighted avg       0.56      0.59      0.57       400\n",
            "\n",
            "Vecinos: 8\n",
            "              precision    recall  f1-score   support\n",
            "\n",
            "       cinco       0.62      0.70      0.66       169\n",
            "      cuatro       0.00      0.00      0.00        14\n",
            "        ocho       0.00      0.00      0.00         5\n",
            "        seis       0.61      0.55      0.58       170\n",
            "       siete       0.40      0.53      0.46        40\n",
            "        tres       0.00      0.00      0.00         2\n",
            "\n",
            "    accuracy                           0.58       400\n",
            "   macro avg       0.27      0.30      0.28       400\n",
            "weighted avg       0.56      0.58      0.57       400\n",
            "\n"
          ]
        },
        {
          "output_type": "stream",
          "name": "stderr",
          "text": [
            "/usr/local/lib/python3.7/dist-packages/sklearn/metrics/_classification.py:1318: UndefinedMetricWarning: Precision and F-score are ill-defined and being set to 0.0 in labels with no predicted samples. Use `zero_division` parameter to control this behavior.\n",
            "  _warn_prf(average, modifier, msg_start, len(result))\n",
            "/usr/local/lib/python3.7/dist-packages/sklearn/metrics/_classification.py:1318: UndefinedMetricWarning: Precision and F-score are ill-defined and being set to 0.0 in labels with no predicted samples. Use `zero_division` parameter to control this behavior.\n",
            "  _warn_prf(average, modifier, msg_start, len(result))\n",
            "/usr/local/lib/python3.7/dist-packages/sklearn/metrics/_classification.py:1318: UndefinedMetricWarning: Precision and F-score are ill-defined and being set to 0.0 in labels with no predicted samples. Use `zero_division` parameter to control this behavior.\n",
            "  _warn_prf(average, modifier, msg_start, len(result))\n",
            "/usr/local/lib/python3.7/dist-packages/sklearn/metrics/_classification.py:1318: UndefinedMetricWarning: Precision and F-score are ill-defined and being set to 0.0 in labels with no predicted samples. Use `zero_division` parameter to control this behavior.\n",
            "  _warn_prf(average, modifier, msg_start, len(result))\n",
            "/usr/local/lib/python3.7/dist-packages/sklearn/metrics/_classification.py:1318: UndefinedMetricWarning: Precision and F-score are ill-defined and being set to 0.0 in labels with no predicted samples. Use `zero_division` parameter to control this behavior.\n",
            "  _warn_prf(average, modifier, msg_start, len(result))\n",
            "/usr/local/lib/python3.7/dist-packages/sklearn/metrics/_classification.py:1318: UndefinedMetricWarning: Precision and F-score are ill-defined and being set to 0.0 in labels with no predicted samples. Use `zero_division` parameter to control this behavior.\n",
            "  _warn_prf(average, modifier, msg_start, len(result))\n",
            "/usr/local/lib/python3.7/dist-packages/sklearn/metrics/_classification.py:1318: UndefinedMetricWarning: Precision and F-score are ill-defined and being set to 0.0 in labels with no predicted samples. Use `zero_division` parameter to control this behavior.\n",
            "  _warn_prf(average, modifier, msg_start, len(result))\n"
          ]
        },
        {
          "output_type": "stream",
          "name": "stdout",
          "text": [
            "Vecinos: 9\n",
            "              precision    recall  f1-score   support\n",
            "\n",
            "       cinco       0.62      0.67      0.64       169\n",
            "      cuatro       0.00      0.00      0.00        14\n",
            "        ocho       0.00      0.00      0.00         5\n",
            "        seis       0.57      0.54      0.55       170\n",
            "       siete       0.41      0.57      0.48        40\n",
            "        tres       0.00      0.00      0.00         2\n",
            "\n",
            "    accuracy                           0.57       400\n",
            "   macro avg       0.27      0.30      0.28       400\n",
            "weighted avg       0.54      0.57      0.55       400\n",
            "\n",
            "[0.615, 0.595, 0.61, 0.6075, 0.6125, 0.595, 0.5875, 0.585, 0.5675, 0.615, 0.595, 0.61, 0.6075, 0.6125, 0.595, 0.5875, 0.585, 0.5675]\n",
            "[0.615, 0.595, 0.61, 0.6075, 0.6125, 0.595, 0.5875, 0.585, 0.5675, 0.615, 0.595, 0.61, 0.6075, 0.6125, 0.595, 0.5875, 0.585, 0.5675]\n",
            "[0.39527082427517596, 0.34953177506398464, 0.3703577012756389, 0.3698400908412734, 0.37459754162875075, 0.3512622408955923, 0.3372487324666177, 0.3310249449458567, 0.3054690544964874, 0.39527082427517596, 0.34953177506398464, 0.3703577012756389, 0.3698400908412734, 0.37459754162875075, 0.3512622408955923, 0.3372487324666177, 0.3310249449458567, 0.3054690544964874]\n"
          ]
        },
        {
          "output_type": "stream",
          "name": "stderr",
          "text": [
            "/usr/local/lib/python3.7/dist-packages/sklearn/metrics/_classification.py:1318: UndefinedMetricWarning: Precision and F-score are ill-defined and being set to 0.0 in labels with no predicted samples. Use `zero_division` parameter to control this behavior.\n",
            "  _warn_prf(average, modifier, msg_start, len(result))\n",
            "/usr/local/lib/python3.7/dist-packages/sklearn/metrics/_classification.py:1318: UndefinedMetricWarning: Precision and F-score are ill-defined and being set to 0.0 in labels with no predicted samples. Use `zero_division` parameter to control this behavior.\n",
            "  _warn_prf(average, modifier, msg_start, len(result))\n"
          ]
        }
      ]
    },
    {
      "cell_type": "markdown",
      "source": [
        "#Modelo Entregable"
      ],
      "metadata": {
        "id": "tO6QDMstRf5o"
      }
    },
    {
      "cell_type": "code",
      "source": [
        "activations = ['identity', 'logistic', 'tanh', 'relu']\n",
        "\n",
        "p = 3\n",
        "Modelo = MLPClassifier(hidden_layer_sizes=(60,30,60),alpha=0.01,activation=activations[p],random_state=1,learning_rate='adaptive', max_iter=1000,solver=\"adam\",verbose=False)\n",
        "Modelo.fit(X, y)"
      ],
      "metadata": {
        "colab": {
          "base_uri": "https://localhost:8080/"
        },
        "id": "AofJxE1TRfWW",
        "outputId": "0461d1e3-2c70-403e-e63c-3d5c96059679"
      },
      "execution_count": 77,
      "outputs": [
        {
          "output_type": "execute_result",
          "data": {
            "text/plain": [
              "MLPClassifier(alpha=0.01, hidden_layer_sizes=(60, 30, 60),\n",
              "              learning_rate='adaptive', max_iter=1000, random_state=1)"
            ]
          },
          "metadata": {},
          "execution_count": 77
        }
      ]
    }
  ]
}